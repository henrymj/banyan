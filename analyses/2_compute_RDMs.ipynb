{
 "cells": [
  {
   "cell_type": "code",
   "execution_count": 1,
   "metadata": {},
   "outputs": [],
   "source": [
    "import sys\n",
    "import pandas as pd\n",
    "\n",
    "import numpy as np\n",
    "%load_ext autoreload\n",
    "%autoreload 2\n",
    "\n",
    "from sklearn.covariance import LedoitWolf\n",
    "from sklearn.model_selection import StratifiedShuffleSplit\n",
    "from sklearn.preprocessing import LabelEncoder\n",
    "from mne.parallel import parallel_func\n",
    "\n",
    "import matplotlib.pyplot as plt\n",
    "import seaborn as sns \n",
    "from os import path\n",
    "\n",
    "from glob import glob"
   ]
  },
  {
   "cell_type": "code",
   "execution_count": 2,
   "metadata": {},
   "outputs": [],
   "source": [
    "OVERWRITE = False"
   ]
  },
  {
   "cell_type": "code",
   "execution_count": 3,
   "metadata": {},
   "outputs": [],
   "source": [
    "def _mean_by_condition(X, conds):\n",
    "    '''\n",
    "    computes the average of each condition in X, ordered by conds\n",
    "    returns a n_conditions x n_channels array\n",
    "    '''\n",
    "    avs = np.zeros((len(np.unique(conds)), *X.shape[1:]))\n",
    "    for cond in sorted(np.unique(conds)):\n",
    "        X_cond = X[conds == cond]\n",
    "        avs[cond] = X_cond.mean(axis=0)\n",
    "    return avs\n",
    "\n",
    "def _means_and_prec(X, conds):\n",
    "    '''\n",
    "    Returns condition averages and demeaned inverse covariance\n",
    "    Covariance is regularized by ledoit-wolf procedure\n",
    "    '''\n",
    "    cond_means = _mean_by_condition(X, conds)\n",
    "    cond_means_for_each_trial = cond_means[conds]\n",
    "    X_demean = X - cond_means_for_each_trial  # demean\n",
    "\n",
    "    return cond_means, LedoitWolf(assume_centered=True).fit(X_demean).precision_\n",
    "\n",
    "def _calc_rdm_crossnobis_single(meas1, meas2, noise):\n",
    "    '''\n",
    "    Calculates RDM using crossnobis distance using means from x and y, and covariance\n",
    "    Largely taken from https://github.com/rsagroup/rsatoolbox/blob/main/src/rsatoolbox/rdm/calc.py#L429\n",
    "    Updated to return the signed square root of the RDM because\n",
    "    LDC is an estimator of the squared mahalonobis distance\n",
    "    '''\n",
    "    kernel = meas1 @ noise @ meas2.T\n",
    "    rdm = np.expand_dims(np.diag(kernel), 0) + \\\n",
    "        np.expand_dims(np.diag(kernel), 1) - kernel - kernel.T\n",
    "    return np.sign(rdm) * np.sqrt(np.abs(rdm))  # NOTE: we are converting to signed d' here\n",
    "\n",
    "def _crossnobis_single(X_train, conds_train, X_test, conds_test):\n",
    "    '''\n",
    "    Uses condition means from both train and test, but only uses the training\n",
    "    examples to compute the noise covariance/precision matrix. You may have another\n",
    "    preference, but I did it this way to avoid train-test leakage. \n",
    "    '''\n",
    "    means_train, noise_train = _means_and_prec(X_train, conds_train)\n",
    "    means_test = _mean_by_condition(X_test, conds_test)\n",
    "    rdm = _calc_rdm_crossnobis_single(\n",
    "        means_train, means_test, noise_train)\n",
    "    return rdm\n",
    "\n",
    "def _crossnobis_train_test_across_time(Xdata, y, train, test, cond_order):\n",
    "    # assumes Xdata is n_trials x n_features x n_times\n",
    "\n",
    "    X_train, y_train = Xdata[train], y[train]\n",
    "    X_test, y_test = Xdata[test], y[test]\n",
    "\n",
    "    # calculate RDMS over time for this fold\n",
    "    rdms = [_crossnobis_single(\n",
    "        X_train[..., t], y_train, X_test[..., t], y_test) for t in range(Xdata.shape[-1])]\n",
    "\n",
    "    # concatenate over time and resort to the given cond_order\n",
    "    return np.stack(rdms, axis=2)[np.ix_(cond_order, cond_order)]\n",
    "\n",
    "def crossnobis(Xdata, ydata, cond_order, test_size=0.5, n_splits=1000, n_jobs=-1):\n",
    "    '''\n",
    "    Wrapper for a parallel function to calculate a series of crossnobis distances\n",
    "    n_splits and n_jobs should be given as arguments upon class initialization\n",
    "\n",
    "\n",
    "    '''\n",
    "\n",
    "    enc = LabelEncoder()  # converts condition labels to integer codes\n",
    "    conds = enc.fit_transform(ydata)\n",
    "    cond_order = enc.transform(cond_order)  # how to resort the final RDMs\n",
    "\n",
    "    cv = StratifiedShuffleSplit(n_splits=n_splits, test_size=test_size)\n",
    "\n",
    "    parallel, p_func, _ = parallel_func(\n",
    "        _crossnobis_train_test_across_time, n_jobs)\n",
    "    rdms = parallel(\n",
    "        p_func(\n",
    "            Xdata=Xdata,\n",
    "            y=conds,\n",
    "            train=train_idx,\n",
    "            test=test_idx,\n",
    "            cond_order=cond_order\n",
    "        )\n",
    "        for train_idx, test_idx in cv.split(Xdata, conds)\n",
    "    )\n",
    "\n",
    "    rdms = np.stack(rdms, axis=0)\n",
    "    return rdms.mean(0)  # average over folds"
   ]
  },
  {
   "cell_type": "code",
   "execution_count": 4,
   "metadata": {},
   "outputs": [],
   "source": [
    "experiment_name = \"data/preprocessed\"\n",
    "data_dir = f\"../{experiment_name}\"\n",
    "\n",
    "conditions = [\"M2N\", \"M4N\", \"M6N\", \"M8N\", \"M2P\", \"M4P\", \"M6P\", \"M8P\", \"A2N\", \"A4N\", \"A6N\", \"A8N\", \"A2P\", \"A4P\", \"A6P\", \"A8P\"]\n",
    "\n",
    "DROP_CHANS = ['Fp1', 'Fp2', 'TP9', 'HEOG', 'VEOG', 'StimTrak', 'xpos_left', 'xpos_right', 'ypos_left', 'ypos_right']\n",
    "\n",
    "\n",
    "sub_makeup_error_trials = {1: 1}  # after exclusion, the last n trials which need to be recovered, for now. NOTE: this depends on \n",
    "\n",
    "\n",
    "times = np.linspace(-400, 1400, 901)\n",
    "trim_idx = (times >= -250) & (times <= 1000)  # for trimming EEG down\n",
    "times = times[trim_idx]\n",
    "\n",
    "# details for compressing down the time bins, for faster computation\n",
    "bin_starts = times[::5][:-1]\n",
    "t_idx_starts = np.where([t in bin_starts for t in times])[0]\n",
    "\n",
    "# defining delay period, excluding window when numbers never could have appeared\n",
    "bin_ends = bin_starts+10\n",
    "delay_period = (bin_starts >= 250) & (bin_ends <=900)"
   ]
  },
  {
   "cell_type": "code",
   "execution_count": 5,
   "metadata": {},
   "outputs": [
    {
     "data": {
      "text/plain": [
       "['../data/preprocessed/001/001_epo.npy',\n",
       " '../data/preprocessed/003/003_epo.npy',\n",
       " '../data/preprocessed/004/004_epo.npy',\n",
       " '../data/preprocessed/005/005_epo.npy',\n",
       " '../data/preprocessed/007/007_epo.npy',\n",
       " '../data/preprocessed/008/008_epo.npy',\n",
       " '../data/preprocessed/009/009_epo.npy',\n",
       " '../data/preprocessed/010/010_epo.npy',\n",
       " '../data/preprocessed/011/011_epo.npy',\n",
       " '../data/preprocessed/013/013_epo.npy',\n",
       " '../data/preprocessed/014/014_epo.npy',\n",
       " '../data/preprocessed/015/015_epo.npy',\n",
       " '../data/preprocessed/019/019_epo.npy',\n",
       " '../data/preprocessed/021/021_epo.npy',\n",
       " '../data/preprocessed/022/022_epo.npy',\n",
       " '../data/preprocessed/023/023_epo.npy',\n",
       " '../data/preprocessed/025/025_epo.npy',\n",
       " '../data/preprocessed/026/026_epo.npy',\n",
       " '../data/preprocessed/027/027_epo.npy',\n",
       " '../data/preprocessed/028/028_epo.npy',\n",
       " '../data/preprocessed/029/029_epo.npy',\n",
       " '../data/preprocessed/030/030_epo.npy',\n",
       " '../data/preprocessed/031/031_epo.npy',\n",
       " '../data/preprocessed/032/032_epo.npy',\n",
       " '../data/preprocessed/033/033_epo.npy',\n",
       " '../data/preprocessed/034/034_epo.npy']"
      ]
     },
     "execution_count": 5,
     "metadata": {},
     "output_type": "execute_result"
    }
   ],
   "source": [
    "sub_files = sorted(glob(path.join(data_dir, '*', '*_epo.npy')))\n",
    "sub_files"
   ]
  },
  {
   "cell_type": "code",
   "execution_count": 6,
   "metadata": {},
   "outputs": [
    {
     "name": "stdout",
     "output_type": "stream",
     "text": [
      "Computing RDMs for sub 33...\n",
      "(1595, 38, 901)\n"
     ]
    },
    {
     "name": "stderr",
     "output_type": "stream",
     "text": [
      "[Parallel(n_jobs=-1)]: Using backend LokyBackend with 10 concurrent workers.\n",
      "[Parallel(n_jobs=-1)]: Done   8 tasks      | elapsed:    6.6s\n",
      "[Parallel(n_jobs=-1)]: Done  62 tasks      | elapsed:    9.9s\n",
      "[Parallel(n_jobs=-1)]: Done 152 tasks      | elapsed:   16.1s\n",
      "[Parallel(n_jobs=-1)]: Done 278 tasks      | elapsed:   24.6s\n",
      "[Parallel(n_jobs=-1)]: Done 440 tasks      | elapsed:   35.5s\n",
      "[Parallel(n_jobs=-1)]: Done 638 tasks      | elapsed:   49.1s\n",
      "[Parallel(n_jobs=-1)]: Done 872 tasks      | elapsed:  1.1min\n",
      "[Parallel(n_jobs=-1)]: Done 1142 tasks      | elapsed:  1.4min\n",
      "[Parallel(n_jobs=-1)]: Done 1448 tasks      | elapsed:  1.7min\n",
      "[Parallel(n_jobs=-1)]: Done 1790 tasks      | elapsed:  2.1min\n",
      "[Parallel(n_jobs=-1)]: Done 2168 tasks      | elapsed:  2.5min\n",
      "[Parallel(n_jobs=-1)]: Done 2500 out of 2500 | elapsed:  2.9min finished\n"
     ]
    },
    {
     "data": {
      "image/png": "[encoded data removed]",
      "text/plain": [
       "<Figure size 640x480 with 2 Axes>"
      ]
     },
     "metadata": {},
     "output_type": "display_data"
    },
    {
     "name": "stdout",
     "output_type": "stream",
     "text": [
      "Computing RDMs for sub 34...\n",
      "(1597, 38, 901)\n"
     ]
    },
    {
     "name": "stderr",
     "output_type": "stream",
     "text": [
      "[Parallel(n_jobs=-1)]: Using backend LokyBackend with 10 concurrent workers.\n",
      "[Parallel(n_jobs=-1)]: Done   8 tasks      | elapsed:    0.6s\n",
      "[Parallel(n_jobs=-1)]: Done 114 tasks      | elapsed:    4.7s\n",
      "[Parallel(n_jobs=-1)]: Done 294 tasks      | elapsed:   11.0s\n",
      "[Parallel(n_jobs=-1)]: Done 546 tasks      | elapsed:   19.7s\n",
      "[Parallel(n_jobs=-1)]: Done 870 tasks      | elapsed:   31.0s\n",
      "[Parallel(n_jobs=-1)]: Done 1266 tasks      | elapsed:   45.1s\n",
      "[Parallel(n_jobs=-1)]: Done 1734 tasks      | elapsed:  1.0min\n",
      "[Parallel(n_jobs=-1)]: Done 2274 tasks      | elapsed:  1.3min\n",
      "[Parallel(n_jobs=-1)]: Done 2500 out of 2500 | elapsed:  1.5min finished\n"
     ]
    },
    {
     "data": {
      "image/png": "[encoded data removed]",
      "text/plain": [
       "<Figure size 640x480 with 2 Axes>"
      ]
     },
     "metadata": {},
     "output_type": "display_data"
    }
   ],
   "source": [
    "for xfile in sub_files:\n",
    "    subid = int(xfile.split('/')[-2])\n",
    "    \n",
    "    sub_file_out = f'sub_rdms/sub_{str(subid).zfill(3)}.npy'\n",
    "    if ((not path.exists(sub_file_out)) or OVERWRITE):\n",
    "        print(f'Computing RDMs for sub {subid}...')\n",
    "\n",
    "        eeg = np.load(xfile)\n",
    "        print(eeg.shape)\n",
    "        chans = pd.read_csv(xfile.replace('_epo.npy', '_chan_labels.csv'), header=None, names=['idx', 'labels'])\n",
    "        keep_idx = chans.loc[~chans['labels'].isin(DROP_CHANS), 'idx'].values\n",
    "        eeg = eeg[:, keep_idx, :]  # remove eye tracking, eog, TP9, and any bad channels (Fp1, Fp2)\n",
    "\n",
    "\n",
    "        eeg = eeg[:, :, trim_idx]\n",
    "\n",
    "        eeg_time_binned = np.zeros((eeg.shape[0], eeg.shape[1], len(bin_starts)))\n",
    "        for i,t in enumerate(t_idx_starts):\n",
    "            eeg_time_binned[..., i] = eeg[..., t:t + 5].mean(axis=-1)  # TODO: change back\n",
    "\n",
    "        beh = pd.read_csv(xfile.replace('_epo.npy', '_data.csv'))\n",
    "        if subid == 10:\n",
    "            beh = beh.iloc[4:]  # first 4 trials weren't recorded for this sub\n",
    "        beh = beh.loc[~(beh.REJ==1)] # remove real time eye tracking rejects, which aren't in the EEG\n",
    "        if path.exists(xfile.replace('_epo.npy', '_preArt_selections.npy')):  # sometimes epoching fails, so we need to use the preArt selections to drop those trials\n",
    "            preArt_selections = np.load(xfile.replace('_epo.npy', '_preArt_selections.npy'))\n",
    "            beh = beh.iloc[preArt_selections]\n",
    "\n",
    "        artifact_idx = np.load(xfile.replace('_epo.npy', '_rej_FINAL.npy'))\n",
    "        artifact_idx = ~artifact_idx.astype(bool)\n",
    "\n",
    "\n",
    "        eeg_time_binned = eeg_time_binned[artifact_idx]  # remove EEG artifact trials\n",
    "        beh = beh.loc[artifact_idx] \n",
    "        trial_conds = beh['trial_condition'].values\n",
    "\n",
    "        if subid==1:  # sub 1 had weird makeup trials, with values in wrong columns\n",
    "            to_replace = pd.Series(trial_conds).isnull().values\n",
    "            trial_conds[to_replace] = beh['relevant_probe_bin'].values[to_replace] \n",
    "\n",
    "        # exclude trials where numbers appears\n",
    "        numbers_absent = (beh.target_present==0).values\n",
    "        eeg_time_binned = eeg_time_binned[numbers_absent]\n",
    "        trial_conds = trial_conds[numbers_absent]\n",
    " \n",
    "\n",
    "        if subid==2:  # sub 002 has a messed up makeup attention block\n",
    "            bad_makeup = np.array([c=='nan' for c in trial_conds])\n",
    "            trial_conds = trial_conds[~bad_makeup]\n",
    "            eeg_time_binned = eeg_time_binned[~bad_makeup]\n",
    "\n",
    "\n",
    "    \n",
    "        np.random.seed(2023)  # for reproducibility\n",
    "        sub_rdms = crossnobis(eeg_time_binned, trial_conds, conditions, n_splits=2_500, n_jobs=-1)\n",
    "        np.save(sub_file_out, sub_rdms)\n",
    "\n",
    "        # plot delay-period RDM\n",
    "        sub_rdm_delay = sub_rdms[...,delay_period].mean(-1)\n",
    "        sns.heatmap(sub_rdm_delay, xticklabels=conditions, yticklabels=conditions, center=0)\n",
    "        plt.show()\n",
    "        plt.close()"
   ]
  },
  {
   "cell_type": "code",
   "execution_count": null,
   "metadata": {},
   "outputs": [],
   "source": []
  }
 ],
 "metadata": {
  "kernelspec": {
   "display_name": "rsaload",
   "language": "python",
   "name": "python3"
  },
  "language_info": {
   "codemirror_mode": {
    "name": "ipython",
    "version": 3
   },
   "file_extension": ".py",
   "mimetype": "text/x-python",
   "name": "python",
   "nbconvert_exporter": "python",
   "pygments_lexer": "ipython3",
   "version": "3.12.2"
  },
  "orig_nbformat": 4
 },
 "nbformat": 4,
 "nbformat_minor": 2
}
